{
 "metadata": {
  "language_info": {
   "codemirror_mode": {
    "name": "ipython",
    "version": 3
   },
   "file_extension": ".py",
   "mimetype": "text/x-python",
   "name": "python",
   "nbconvert_exporter": "python",
   "pygments_lexer": "ipython3",
   "version": "3.8.6-final"
  },
  "orig_nbformat": 2,
  "kernelspec": {
   "name": "python3",
   "display_name": "Python 3.8.6 64-bit",
   "metadata": {
    "interpreter": {
     "hash": "37eb73ed997a346ed0686d4d6017c46cf74fcf62c6bea2d4e66708af533e9af5"
    }
   }
  }
 },
 "nbformat": 4,
 "nbformat_minor": 2,
 "cells": [
  {
   "cell_type": "code",
   "execution_count": null,
   "metadata": {},
   "outputs": [],
   "source": [
    "import matplotlib.pyplot as plt\n",
    "import numpy as np\n",
    "import seaborn as sns\n",
    "from matplotlib.patches import Rectangle\n",
    "import subprocess\n",
    "import os\n",
    "import json\n",
    "import re\n",
    "import bisect"
   ]
  },
  {
   "cell_type": "code",
   "execution_count": null,
   "metadata": {},
   "outputs": [],
   "source": [
    "\n",
    "# Get the current reference\n",
    "fig, ax = plt.subplots(1)\n",
    "\n",
    "# Create a Rectangle patch\n",
    "rect = Rectangle((0.1,0.1),1,1,linewidth=1,edgecolor='r',facecolor='none')\n",
    "\n",
    "# Add the patch to the Axes\n",
    "ax.add_patch(rect)\n",
    "\n",
    "plt.show()\n"
   ]
  },
  {
   "cell_type": "code",
   "execution_count": null,
   "metadata": {},
   "outputs": [],
   "source": [
    "class SpecialHeatmap:\n",
    "    def __init__(self):\n",
    "        self.heatmap_data = np.zeros((100,100), dtype=float)\n",
    "        self.actual_data = np.random.rand(10,10)\n",
    "\n",
    "        self.upscale()\n",
    "        self.draw()\n",
    "\n",
    "    \n",
    "    def upscale(self):\n",
    "        for i in range(10):\n",
    "            for j in range(10):\n",
    "                self.heatmap_data[i*10:(i+1)*10, j*10:(j+1)*10] = self.actual_data[i,j]\n",
    "            self.heatmap_data[i*10,:] = float('NaN')\n",
    "\n",
    "    def draw(self):\n",
    "        ax = sns.heatmap(self.heatmap_data)\n",
    "\n",
    "\n",
    "SpecialHeatmap()"
   ]
  },
  {
   "cell_type": "code",
   "execution_count": null,
   "metadata": {},
   "outputs": [],
   "source": [
    "subprocess.check_output(['jsinspect -t 2 -r json \"JsInspect Analysis/base_snippet.js\" \"JsInspect Analysis/base_snippet_type_1_1.js\"'])"
   ]
  },
  {
   "cell_type": "code",
   "execution_count": null,
   "metadata": {},
   "outputs": [],
   "source": [
    "result = subprocess.run('jsinspect -t 6 -r json \"JsInspect Analysis/base_snippet.js\" \"JsInspect Analysis/base_snippet_type_3_1.js\"', stdout=subprocess.PIPE, shell=True)\n",
    "string = result.stdout.decode('utf-8')\n",
    "json.loads(string)"
   ]
  },
  {
   "cell_type": "code",
   "execution_count": null,
   "metadata": {},
   "outputs": [],
   "source": [
    "result = subprocess.run('jsinspect -t 6 -r json \"JsInspect Analysis/base_snippet.js\" \"JsInspect Analysis/base_snippet_type_3_1.js\"', stdout=subprocess.PIPE, shell=True)\n",
    "string = result.stdout.decode('utf-8')"
   ]
  },
  {
   "cell_type": "code",
   "execution_count": null,
   "metadata": {},
   "outputs": [],
   "source": [
    "result = subprocess.run('cloc --json 1.0/src', stdout=subprocess.PIPE, shell=True)\n",
    "string = result.stdout.decode('utf-8')\n",
    "json.loads(string)"
   ]
  },
  {
   "cell_type": "code",
   "execution_count": null,
   "metadata": {},
   "outputs": [],
   "source": [
    "class Segments:\n",
    "    segments = []\n",
    "\n",
    "    def add(self, seg):\n",
    "        if not self.segments:\n",
    "            self.segments = seg.copy()\n",
    "        else:\n",
    "            index_left = bisect.bisect_left(self.segments, seg[0])\n",
    "            index_right = bisect.bisect_right(self.segments, seg[1])\n",
    "            if index_left % 2 == 0 and index_right % 2 == 0:\n",
    "                del self.segments[index_left:index_right]\n",
    "                self.segments.insert(index_left, seg[1])\n",
    "                self.segments.insert(index_left, seg[0])\n",
    "            if index_left % 2 == 1 and index_right % 2 == 0:\n",
    "                del self.segments[index_left:index_right]\n",
    "                self.segments.insert(index_left, seg[1])\n",
    "            if index_left % 2 == 1 and index_right % 2 == 1:\n",
    "                del self.segments[index_left:index_right]\n",
    "            if index_left % 2 == 0 and index_right % 2 == 1:\n",
    "                del self.segments[index_left:index_right]\n",
    "                self.segments.insert(index_left, seg[0])\n",
    "    \n",
    "    def lines(self):\n",
    "        c = 0\n",
    "        for i in range(len(self.segments)//2):\n",
    "            c += (self.segments[2*i+1] - self.segments[2*i] + 1)\n",
    "        return c\n",
    "\n",
    "    def __str__(self):\n",
    "        strings = []\n",
    "        if self.segments:\n",
    "            for i in range(len(self.segments)//2):\n",
    "                strings.append(str([self.segments[2*i], self.segments[2*i+1]]))\n",
    "        return \", \".join(strings)\n",
    "\n",
    "segs = Segments()\n",
    "\n",
    "segs.add([0,3])\n",
    "segs.add([5,7])\n",
    "segs.add([1,3])\n",
    "segs.add([1,2])\n",
    "segs.add([3,4])\n",
    "segs.add([8,10])\n",
    "segs.add([6,6])\n",
    "segs.add([7,7])\n",
    "segs.add([5,5])\n",
    "segs.add([4,4])\n",
    "segs.add([3,4])\n",
    "segs.add([1,4])\n",
    "segs.add([0,4])\n",
    "segs.add([0,3])\n",
    "segs.add([0,5])\n",
    "segs.add([0,8])\n",
    "\n",
    "print(segs.segments)\n",
    "print(segs)\n",
    "print(segs.lines())"
   ]
  },
  {
   "cell_type": "code",
   "execution_count": null,
   "metadata": {},
   "outputs": [],
   "source": []
  }
 ]
}