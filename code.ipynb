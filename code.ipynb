{
 "metadata": {
  "language_info": {
   "codemirror_mode": {
    "name": "ipython",
    "version": 3
   },
   "file_extension": ".py",
   "mimetype": "text/x-python",
   "name": "python",
   "nbconvert_exporter": "python",
   "pygments_lexer": "ipython3",
   "version": "3.8.6-final"
  },
  "orig_nbformat": 2,
  "kernelspec": {
   "name": "python3",
   "display_name": "Python 3.8.6 64-bit",
   "metadata": {
    "interpreter": {
     "hash": "37eb73ed997a346ed0686d4d6017c46cf74fcf62c6bea2d4e66708af533e9af5"
    }
   }
  }
 },
 "nbformat": 4,
 "nbformat_minor": 2,
 "cells": [
  {
   "cell_type": "code",
   "execution_count": 46,
   "metadata": {},
   "outputs": [],
   "source": [
    "import matplotlib.pyplot as plt\n",
    "import numpy as np\n",
    "import seaborn as sns\n",
    "from matplotlib.patches import Rectangle\n",
    "import subprocess\n",
    "import os\n",
    "import json\n",
    "import re"
   ]
  },
  {
   "cell_type": "code",
   "execution_count": null,
   "metadata": {},
   "outputs": [],
   "source": [
    "\n",
    "# Get the current reference\n",
    "fig, ax = plt.subplots(1)\n",
    "\n",
    "# Create a Rectangle patch\n",
    "rect = Rectangle((0.1,0.1),1,1,linewidth=1,edgecolor='r',facecolor='none')\n",
    "\n",
    "# Add the patch to the Axes\n",
    "ax.add_patch(rect)\n",
    "\n",
    "plt.show()\n"
   ]
  },
  {
   "cell_type": "code",
   "execution_count": null,
   "metadata": {},
   "outputs": [],
   "source": [
    "class SpecialHeatmap:\n",
    "    def __init__(self):\n",
    "        self.heatmap_data = np.zeros((100,100), dtype=float)\n",
    "        self.actual_data = np.random.rand(10,10)\n",
    "\n",
    "        self.upscale()\n",
    "        self.draw()\n",
    "\n",
    "    \n",
    "    def upscale(self):\n",
    "        for i in range(10):\n",
    "            for j in range(10):\n",
    "                self.heatmap_data[i*10:(i+1)*10, j*10:(j+1)*10] = self.actual_data[i,j]\n",
    "            self.heatmap_data[i*10,:] = float('NaN')\n",
    "\n",
    "    def draw(self):\n",
    "        ax = sns.heatmap(self.heatmap_data)\n",
    "\n",
    "\n",
    "SpecialHeatmap()"
   ]
  },
  {
   "cell_type": "code",
   "execution_count": null,
   "metadata": {},
   "outputs": [],
   "source": [
    "subprocess.check_output(['jsinspect -t 2 -r json \"JsInspect Analysis/base_snippet.js\" \"JsInspect Analysis/base_snippet_type_1_1.js\"'])"
   ]
  },
  {
   "cell_type": "code",
   "execution_count": 49,
   "metadata": {},
   "outputs": [
    {
     "output_type": "execute_result",
     "data": {
      "text/plain": [
       "[{'id': 'eb7520556603b090da72c9c09ecc0f16250371c3',\n",
       "  'instances': [{'path': 'JsInspect Analysis/base_snippet.js',\n",
       "    'lines': [2, 4],\n",
       "    'code': 'getPrimes = function(N) {\\r\\n    let candidate = 1;\\r\\n    let arr = [2];\\r'},\n",
       "   {'path': 'JsInspect Analysis/base_snippet_type_3_1.js',\n",
       "    'lines': [2, 4],\n",
       "    'code': 'poopy = function(N) {\\r\\n    let candidate = 1;\\r\\n    let arr = [2];\\r'}]},\n",
       " {'id': 'e12f1762e8995c8de22cde2880ef6162868dc59d',\n",
       "  'instances': [{'path': 'JsInspect Analysis/base_snippet.js',\n",
       "    'lines': [5, 7],\n",
       "    'code': 'while (arr.length < N) {\\r\\n    candidate += 2;\\r\\n    let candidateIsShownComposite = false;\\r'},\n",
       "   {'path': 'JsInspect Analysis/base_snippet_type_3_1.js',\n",
       "    'lines': [6, 8],\n",
       "    'code': 'while (arr.length < N) {\\r\\n    candidate += 2;\\r\\n    let candidateIsShownComposite = false;\\r'}]},\n",
       " {'id': '5b3dac0d2a0a2c53b7b450a248ed39a44d9038da',\n",
       "  'instances': [{'path': 'JsInspect Analysis/base_snippet.js',\n",
       "    'lines': [8, 13],\n",
       "    'code': 'for (var i = 0; i < arr.length; i++) {\\r\\n    if (candidate % arr[i] == 0) {\\r\\n        candidateIsShownComposite = true;\\r\\n        break;\\r\\n    }\\r\\n}\\r'},\n",
       "   {'path': 'JsInspect Analysis/base_snippet_type_3_1.js',\n",
       "    'lines': [12, 15],\n",
       "    'code': 'for (var i = 0; i < arr.length; i++) {\\r\\n    if (candidate % arr[i] == 0) {\\r\\n        candidateIsShownComposite = true;\\r\\n        break;\\r'}]},\n",
       " {'id': '6d4012b07b81a2f0542a5e9d4f4b6decf1eee10f',\n",
       "  'instances': [{'path': 'JsInspect Analysis/base_snippet.js',\n",
       "    'lines': [14, 21],\n",
       "    'code': '        if (!candidateIsShownComposite) {\\r\\n            arr.push(candidate);\\r\\n        }\\r\\n    }\\r\\n    return arr;\\r\\n}\\r\\n\\r\\nconsole.log(getPrimes(10))\\r'},\n",
       "   {'path': 'JsInspect Analysis/base_snippet_type_3_1.js',\n",
       "    'lines': [19, 26],\n",
       "    'code': '        if (!candidateIsShownComposite) {\\r\\n            arr.push(candidate);\\r\\n        }\\r\\n    }\\r\\n    return arr;\\r\\n}\\r\\n\\r\\nconsole.log(poopy(10))\\r'}]}]"
      ]
     },
     "metadata": {},
     "execution_count": 49
    }
   ],
   "source": [
    "result = subprocess.run('jsinspect -t 6 -r json \"JsInspect Analysis/base_snippet.js\" \"JsInspect Analysis/base_snippet_type_3_1.js\"', stdout=subprocess.PIPE, shell=True)\n",
    "string = result.stdout.decode('utf-8')\n",
    "json.loads(string)"
   ]
  },
  {
   "cell_type": "code",
   "execution_count": null,
   "metadata": {},
   "outputs": [],
   "source": [
    "result = subprocess.run('jsinspect -t 6 -r json \"JsInspect Analysis/base_snippet.js\" \"JsInspect Analysis/base_snippet_type_3_1.js\"', stdout=subprocess.PIPE, shell=True)\n",
    "string = result.stdout.decode('utf-8')"
   ]
  },
  {
   "cell_type": "code",
   "execution_count": 45,
   "metadata": {},
   "outputs": [
    {
     "output_type": "error",
     "ename": "JSONDecodeError",
     "evalue": "Expecting value: line 1 column 1 (char 0)",
     "traceback": [
      "\u001b[1;31m---------------------------------------------------------------------------\u001b[0m",
      "\u001b[1;31mJSONDecodeError\u001b[0m                           Traceback (most recent call last)",
      "\u001b[1;32m<ipython-input-45-3805c04f1f59>\u001b[0m in \u001b[0;36m<module>\u001b[1;34m\u001b[0m\n\u001b[0;32m      1\u001b[0m \u001b[0mresult\u001b[0m \u001b[1;33m=\u001b[0m \u001b[0msubprocess\u001b[0m\u001b[1;33m.\u001b[0m\u001b[0mrun\u001b[0m\u001b[1;33m(\u001b[0m\u001b[1;34m'cloc --json 1.0/src'\u001b[0m\u001b[1;33m,\u001b[0m \u001b[0mstdout\u001b[0m\u001b[1;33m=\u001b[0m\u001b[0msubprocess\u001b[0m\u001b[1;33m.\u001b[0m\u001b[0mPIPE\u001b[0m\u001b[1;33m,\u001b[0m \u001b[0mshell\u001b[0m\u001b[1;33m=\u001b[0m\u001b[1;32mTrue\u001b[0m\u001b[1;33m)\u001b[0m\u001b[1;33m\u001b[0m\u001b[1;33m\u001b[0m\u001b[0m\n\u001b[0;32m      2\u001b[0m \u001b[0mstring\u001b[0m \u001b[1;33m=\u001b[0m \u001b[0mresult\u001b[0m\u001b[1;33m.\u001b[0m\u001b[0mstdout\u001b[0m\u001b[1;33m.\u001b[0m\u001b[0mdecode\u001b[0m\u001b[1;33m(\u001b[0m\u001b[1;34m'utf-8'\u001b[0m\u001b[1;33m)\u001b[0m\u001b[1;33m\u001b[0m\u001b[1;33m\u001b[0m\u001b[0m\n\u001b[1;32m----> 3\u001b[1;33m \u001b[0mjson\u001b[0m\u001b[1;33m.\u001b[0m\u001b[0mloads\u001b[0m\u001b[1;33m(\u001b[0m\u001b[0mstring\u001b[0m\u001b[1;33m)\u001b[0m\u001b[1;33m\u001b[0m\u001b[1;33m\u001b[0m\u001b[0m\n\u001b[0m",
      "\u001b[1;32m~\\AppData\\Local\\Programs\\Python\\Python38\\lib\\json\\__init__.py\u001b[0m in \u001b[0;36mloads\u001b[1;34m(s, cls, object_hook, parse_float, parse_int, parse_constant, object_pairs_hook, **kw)\u001b[0m\n\u001b[0;32m    355\u001b[0m             \u001b[0mparse_int\u001b[0m \u001b[1;32mis\u001b[0m \u001b[1;32mNone\u001b[0m \u001b[1;32mand\u001b[0m \u001b[0mparse_float\u001b[0m \u001b[1;32mis\u001b[0m \u001b[1;32mNone\u001b[0m \u001b[1;32mand\u001b[0m\u001b[1;33m\u001b[0m\u001b[1;33m\u001b[0m\u001b[0m\n\u001b[0;32m    356\u001b[0m             parse_constant is None and object_pairs_hook is None and not kw):\n\u001b[1;32m--> 357\u001b[1;33m         \u001b[1;32mreturn\u001b[0m \u001b[0m_default_decoder\u001b[0m\u001b[1;33m.\u001b[0m\u001b[0mdecode\u001b[0m\u001b[1;33m(\u001b[0m\u001b[0ms\u001b[0m\u001b[1;33m)\u001b[0m\u001b[1;33m\u001b[0m\u001b[1;33m\u001b[0m\u001b[0m\n\u001b[0m\u001b[0;32m    358\u001b[0m     \u001b[1;32mif\u001b[0m \u001b[0mcls\u001b[0m \u001b[1;32mis\u001b[0m \u001b[1;32mNone\u001b[0m\u001b[1;33m:\u001b[0m\u001b[1;33m\u001b[0m\u001b[1;33m\u001b[0m\u001b[0m\n\u001b[0;32m    359\u001b[0m         \u001b[0mcls\u001b[0m \u001b[1;33m=\u001b[0m \u001b[0mJSONDecoder\u001b[0m\u001b[1;33m\u001b[0m\u001b[1;33m\u001b[0m\u001b[0m\n",
      "\u001b[1;32m~\\AppData\\Local\\Programs\\Python\\Python38\\lib\\json\\decoder.py\u001b[0m in \u001b[0;36mdecode\u001b[1;34m(self, s, _w)\u001b[0m\n\u001b[0;32m    335\u001b[0m \u001b[1;33m\u001b[0m\u001b[0m\n\u001b[0;32m    336\u001b[0m         \"\"\"\n\u001b[1;32m--> 337\u001b[1;33m         \u001b[0mobj\u001b[0m\u001b[1;33m,\u001b[0m \u001b[0mend\u001b[0m \u001b[1;33m=\u001b[0m \u001b[0mself\u001b[0m\u001b[1;33m.\u001b[0m\u001b[0mraw_decode\u001b[0m\u001b[1;33m(\u001b[0m\u001b[0ms\u001b[0m\u001b[1;33m,\u001b[0m \u001b[0midx\u001b[0m\u001b[1;33m=\u001b[0m\u001b[0m_w\u001b[0m\u001b[1;33m(\u001b[0m\u001b[0ms\u001b[0m\u001b[1;33m,\u001b[0m \u001b[1;36m0\u001b[0m\u001b[1;33m)\u001b[0m\u001b[1;33m.\u001b[0m\u001b[0mend\u001b[0m\u001b[1;33m(\u001b[0m\u001b[1;33m)\u001b[0m\u001b[1;33m)\u001b[0m\u001b[1;33m\u001b[0m\u001b[1;33m\u001b[0m\u001b[0m\n\u001b[0m\u001b[0;32m    338\u001b[0m         \u001b[0mend\u001b[0m \u001b[1;33m=\u001b[0m \u001b[0m_w\u001b[0m\u001b[1;33m(\u001b[0m\u001b[0ms\u001b[0m\u001b[1;33m,\u001b[0m \u001b[0mend\u001b[0m\u001b[1;33m)\u001b[0m\u001b[1;33m.\u001b[0m\u001b[0mend\u001b[0m\u001b[1;33m(\u001b[0m\u001b[1;33m)\u001b[0m\u001b[1;33m\u001b[0m\u001b[1;33m\u001b[0m\u001b[0m\n\u001b[0;32m    339\u001b[0m         \u001b[1;32mif\u001b[0m \u001b[0mend\u001b[0m \u001b[1;33m!=\u001b[0m \u001b[0mlen\u001b[0m\u001b[1;33m(\u001b[0m\u001b[0ms\u001b[0m\u001b[1;33m)\u001b[0m\u001b[1;33m:\u001b[0m\u001b[1;33m\u001b[0m\u001b[1;33m\u001b[0m\u001b[0m\n",
      "\u001b[1;32m~\\AppData\\Local\\Programs\\Python\\Python38\\lib\\json\\decoder.py\u001b[0m in \u001b[0;36mraw_decode\u001b[1;34m(self, s, idx)\u001b[0m\n\u001b[0;32m    353\u001b[0m             \u001b[0mobj\u001b[0m\u001b[1;33m,\u001b[0m \u001b[0mend\u001b[0m \u001b[1;33m=\u001b[0m \u001b[0mself\u001b[0m\u001b[1;33m.\u001b[0m\u001b[0mscan_once\u001b[0m\u001b[1;33m(\u001b[0m\u001b[0ms\u001b[0m\u001b[1;33m,\u001b[0m \u001b[0midx\u001b[0m\u001b[1;33m)\u001b[0m\u001b[1;33m\u001b[0m\u001b[1;33m\u001b[0m\u001b[0m\n\u001b[0;32m    354\u001b[0m         \u001b[1;32mexcept\u001b[0m \u001b[0mStopIteration\u001b[0m \u001b[1;32mas\u001b[0m \u001b[0merr\u001b[0m\u001b[1;33m:\u001b[0m\u001b[1;33m\u001b[0m\u001b[1;33m\u001b[0m\u001b[0m\n\u001b[1;32m--> 355\u001b[1;33m             \u001b[1;32mraise\u001b[0m \u001b[0mJSONDecodeError\u001b[0m\u001b[1;33m(\u001b[0m\u001b[1;34m\"Expecting value\"\u001b[0m\u001b[1;33m,\u001b[0m \u001b[0ms\u001b[0m\u001b[1;33m,\u001b[0m \u001b[0merr\u001b[0m\u001b[1;33m.\u001b[0m\u001b[0mvalue\u001b[0m\u001b[1;33m)\u001b[0m \u001b[1;32mfrom\u001b[0m \u001b[1;32mNone\u001b[0m\u001b[1;33m\u001b[0m\u001b[1;33m\u001b[0m\u001b[0m\n\u001b[0m\u001b[0;32m    356\u001b[0m         \u001b[1;32mreturn\u001b[0m \u001b[0mobj\u001b[0m\u001b[1;33m,\u001b[0m \u001b[0mend\u001b[0m\u001b[1;33m\u001b[0m\u001b[1;33m\u001b[0m\u001b[0m\n",
      "\u001b[1;31mJSONDecodeError\u001b[0m: Expecting value: line 1 column 1 (char 0)"
     ]
    }
   ],
   "source": [
    "result = subprocess.run('cloc --json 1.0/src', stdout=subprocess.PIPE, shell=True)\n",
    "string = result.stdout.decode('utf-8')\n",
    "json.loads(string)"
   ]
  },
  {
   "cell_type": "code",
   "execution_count": null,
   "metadata": {},
   "outputs": [],
   "source": [
    "class Segments:\n",
    "    def add(self, seg):\n",
    "        if not self.segments:\n",
    "            self.segments = seg.copy()\n",
    "        else:\n",
    "            index_left = bisect.bisect_left(self.segments, seg[0])\n",
    "            index_right = bisect.bisect_right(self.segments, seg[1])\n",
    "            if index_left % 2 == 0 and index_right % 2 == 0:\n",
    "                if index_left != index_right:\n",
    "                    del self.segments[index_left:index_right]\n",
    "                self.segments.insert(index_left, seg[1])\n",
    "                self.segments.insert(index_left, seg[0])\n",
    "            if index_left % 2 == 1 and index_right % 2 == 0:\n",
    "                if index_left != index_right:\n",
    "                    del self.segments[index_left:index_right]\n",
    "                self.segments.insert(index_left, seg[1])\n",
    "    def __str__(self):\n",
    "        if self.segments:\n",
    "            for i in range(len(self.segments)/2):\n",
    "                print(str(self.segments[2*i]) + str(self.segments[2*i+1]))\n",
    "\n"
   ]
  }
 ]
}