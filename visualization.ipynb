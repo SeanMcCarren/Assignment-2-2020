{
 "cells": [
  {
   "cell_type": "code",
   "execution_count": null,
   "metadata": {
    "collapsed": true
   },
   "outputs": [],
   "source": [
    "import matplotlib\n",
    "import matplotlib.pyplot as plt\n",
    "import numpy as np\n",
    "from numpy import cumsum\n",
    "import seaborn as sns\n",
    "from matplotlib.patches import Rectangle\n",
    "import matplotlib.lines as lines\n",
    "import subprocess\n",
    "import os\n",
    "import json\n",
    "import csv"
   ]
  },
  {
   "cell_type": "code",
   "execution_count": null,
   "metadata": {
    "collapsed": true
   },
   "outputs": [],
   "source": [
    "# READ DATA\n",
    "import out.store as store\n",
    "\n",
    "LOCs = store.LOCStore(DIR='out/')\n",
    "RESULTS = store.Results(DIR='out/')\n",
    "\n",
    "releases = []\n",
    "with open('jquery_releases.csv', mode='r') as csv_file:\n",
    "    csv_reader = csv.DictReader(csv_file)\n",
    "    for row in csv_reader:\n",
    "        releases.append(row)\n",
    "\n",
    "# Testing on partial dataset? Cut part out!\n",
    "#releases = releases[:17]\n",
    "\n",
    "# Releases is reversed? So reverse it back!\n",
    "releases = releases[::-1]\n",
    "\n",
    "matrix = np.empty((len(releases), len(releases)), dtype=float)\n",
    "matrix[:,:] = np.NaN\n",
    "#print(RESULTS.get('1.11.0', '1.4.2'))\n",
    "for i_1, release_1 in enumerate(releases):\n",
    "    for i_2, release_2 in enumerate(releases[:i_1]):\n",
    "        tag_1 = release_1['tag']\n",
    "        tag_2 = release_2['tag']\n",
    "        try:\n",
    "            matrix[i_1, i_2] = RESULTS.get(tag_1, tag_2)\n",
    "        except:\n",
    "            matrix[i_1, i_2] = 0\n",
    "        \n",
    "locs = np.array([LOCs.get(r['tag']) for r in releases])\n",
    "\n",
    "#print([r['tag'] for r in releases])\n",
    "#print(matrix)\n",
    "#print(locs)"
   ]
  },
  {
   "cell_type": "code",
   "execution_count": null,
   "metadata": {
    "collapsed": true
   },
   "outputs": [],
   "source": [
    "# INFO\n",
    "#releases is the list of releases, where a release is a dictionary. Use release['tag'] to get the release tag\n",
    "#matrix is the data matrix with at index i,j the metric calculated for release[i] against release[j]\n",
    "#use LOCs.get(version string) to get the LOC for a specific release['tag']"
   ]
  },
  {
   "cell_type": "code",
   "execution_count": null,
   "metadata": {},
   "outputs": [],
   "source": [
    "keys = [key for key in LOCs.DONE][::-1]\n",
    "vals = [LOCs.DONE[key] for key in keys]\n",
    "plt.figure()\n",
    "\n",
    "fig = plt.figure(figsize = (15,8))\n",
    "ax = plt.gca()\n",
    "ax.yaxis.grid(True)\n",
    "# creating the bar plot\n",
    "plt.bar(keys, vals)\n",
    "plt.xticks(rotation='vertical')\n",
    "plt.xlabel('Version')\n",
    "plt.ylabel('Lines of JavaScript')\n",
    "plt.savefig('barplot.png')"
   ]
  },
  {
   "cell_type": "code",
   "execution_count": null,
   "metadata": {},
   "outputs": [],
   "source": [
    "label_names = [r['tag'] for r in releases]\n",
    "\n",
    "#Get color distribution\n",
    "#c_map = plt.get_cmap('Blues')\n",
    "c_map = matplotlib.colors.LinearSegmentedColormap.from_list(\"\", [\"white\",\"cyan\",\"lightgreen\",\"yellow\",\"red\"])\n",
    "\n",
    "fig, axes = plt.subplots(2, figsize=(20,40))\n",
    "\n",
    "#size = np.array([10,15,16,20,25,30,40,50,60,80,100]) # size will be lines of code\n",
    "box_start = np.union1d([0],cumsum(locs))\n",
    "s = sum(locs)\n",
    "\n",
    "# Make the lines inbetween the boxes.\n",
    "for i, p in enumerate(box_start):\n",
    "    if ( i < len(label_names) and (label_names[i].split('.')[1] != label_names[i-1 if i-1 >0 else 0].split('.')[1])):\n",
    "        axes[0].add_line(lines.Line2D([0, s], [p, p], linewidth = 1.2, color = 'black'))\n",
    "        axes[0].add_line(lines.Line2D([p, p], [0, s], linewidth = 1.2, color = 'black'))\n",
    "    else:\n",
    "        axes[0].add_line(lines.Line2D([0, s], [p, p], linewidth = 1, color = 'grey'))\n",
    "        axes[0].add_line(lines.Line2D([p, p], [0, s], linewidth = 1, color = 'grey'))\n",
    "\n",
    "# Make all the boxes\n",
    "for c in range(len(locs)):\n",
    "    for r in range(len(locs)):\n",
    "        if (c>r):\n",
    "            rect = Rectangle((box_start[r],box_start[c]),locs[r],locs[c],linewidth=1,edgecolor='r',facecolor=c_map(matrix[c,r]))\n",
    "            axes[0].add_patch(rect)\n",
    "\n",
    "# this is for the legend\n",
    "gradient = np.linspace(0, 1, 256)\n",
    "gradient = np.vstack((gradient, gradient))\n",
    "            \n",
    "# Setup the labels\n",
    "axes[0].set_ylim([0,s])   \n",
    "axes[0].set_xlim([0, s])\n",
    "axes[0].invert_yaxis()\n",
    "axes[0].set_xticks(box_start[:-1]+0.5*locs) #put labels in the middle of the box\n",
    "axes[0].set_yticks(box_start[:-1]+0.5*locs)\n",
    "axes[0].set_xticklabels(label_names, rotation = 90)\n",
    "axes[0].set_yticklabels(label_names)\n",
    "\n",
    "axes[0].grid(False)\n",
    "\n",
    "axes[1].imshow(gradient, aspect = '5', cmap=c_map)\n",
    "axes[1].grid(False)\n",
    "axes[1].set_xticks([0,254])\n",
    "axes[1].set_yticks([]) \n",
    "axes[1].set_xticklabels(['0','1'])\n",
    "\n",
    "plt.savefig('heatmap.png')"
   ]
  },
  {
   "cell_type": "code",
   "execution_count": null,
   "metadata": {},
   "outputs": [],
   "source": [
    "# Make only the legend\n",
    "#cmap = matplotlib.colors.LinearSegmentedColormap.from_list(\"\", [\"white\",\"cyan\",\"lightgreen\",\"yellow\",\"red\"])\n",
    "\n",
    "fig, ax = plt.subplots(1)\n",
    "ax.imshow(gradient, aspect = '5', cmap=c_map)\n",
    "ax.grid(False)\n",
    "ax.set_xticks([0,250])\n",
    "ax.set_yticks([])\n",
    "ax.set_xticklabels(['0','1'])\n",
    "plt.show()\n"
   ]
  },
  {
   "cell_type": "code",
   "execution_count": null,
   "metadata": {
    "collapsed": true
   },
   "outputs": [],
   "source": []
  }
 ],
 "metadata": {
  "kernelspec": {
   "name": "python3",
   "display_name": "Python 3.8.6 64-bit",
   "metadata": {
    "interpreter": {
     "hash": "37eb73ed997a346ed0686d4d6017c46cf74fcf62c6bea2d4e66708af533e9af5"
    }
   }
  },
  "language_info": {
   "codemirror_mode": {
    "name": "ipython",
    "version": 3
   },
   "file_extension": ".py",
   "mimetype": "text/x-python",
   "name": "python",
   "nbconvert_exporter": "python",
   "pygments_lexer": "ipython3",
   "version": "3.8.6-final"
  }
 },
 "nbformat": 4,
 "nbformat_minor": 2
}