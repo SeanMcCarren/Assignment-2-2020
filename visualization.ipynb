{
 "cells": [
  {
   "cell_type": "code",
   "execution_count": null,
   "metadata": {
    "collapsed": true
   },
   "outputs": [],
   "source": [
    "import matplotlib.pyplot as plt\n",
    "import numpy as np\n",
    "from numpy import cumsum\n",
    "import seaborn as sns\n",
    "from matplotlib.patches import Rectangle\n",
    "import matplotlib.lines as lines\n",
    "import subprocess\n",
    "import os\n",
    "import json\n",
    "import csv"
   ]
  },
  {
   "cell_type": "code",
   "execution_count": null,
   "metadata": {},
   "outputs": [],
   "source": [
    "# READ DATA\n",
    "import out.store as store\n",
    "\n",
    "LOCs = store.LOCStore(DIR='out/')\n",
    "RESULTS = store.Results(DIR='out/')\n",
    "\n",
    "releases = []\n",
    "with open('jquery_releases.csv', mode='r') as csv_file:\n",
    "    csv_reader = csv.DictReader(csv_file)\n",
    "    for row in csv_reader:\n",
    "        releases.append(row)\n",
    "\n",
    "# Testing on partial dataset? Cut part out!\n",
    "#releases = releases[:6]\n",
    "\n",
    "# Releases is reversed? So reverse it back!\n",
    "releases = releases[::-1]\n",
    "\n",
    "matrix = np.empty((len(releases), len(releases)), dtype=float)\n",
    "matrix[:,:] = np.NaN\n",
    "\n",
    "for i_1, release_1 in enumerate(releases):\n",
    "    for i_2, release_2 in enumerate(releases[:i_1]):\n",
    "        tag_1 = release_1['tag']\n",
    "        tag_2 = release_2['tag']\n",
    "        matrix[i_1, i_2] = RESULTS.get(tag_1, tag_2)"
   ]
  },
  {
   "cell_type": "code",
   "execution_count": null,
   "metadata": {},
   "outputs": [],
   "source": [
    "# INFO\n",
    "#releases is the list of releases, where a release is a dictionary. Use release['tag'] to get the release tag\n",
    "#matrix is the data matrix with at index i,j the metric calculated for release[i] against release[j]\n",
    "#use LOCs.get(version string) to get the LOC for a specific release['tag']"
   ]
  },
  {
   "cell_type": "code",
   "execution_count": null,
   "metadata": {},
   "outputs": [],
   "source": [
    "c_map = plt.get_cmap('Blues')\n",
    "# Get the current reference\n",
    "fig, axes = plt.subplots(2, figsize=(15,30))\n",
    "\n",
    "# Create a Rectangle patch\n",
    "\n",
    "size = np.array([10,15,16,20,25,30,40,50,60,80,100]) # size will be lines of code\n",
    "vertex_start = np.union1d([0],cumsum(size))\n",
    "sim = np.random.rand(10,10)\n",
    "s = sum(size)\n",
    "\n",
    "\n",
    "thic = [5,9]\n",
    "for i, p in enumerate(vertex_start):\n",
    "    if (i in thic):\n",
    "        axes[0].add_line(lines.Line2D([0, s], [p, p], linewidth = 1.2, color = 'black'))\n",
    "        axes[0].add_line(lines.Line2D([p, p], [0, s], linewidth = 1.2, color = 'black'))\n",
    "    else:\n",
    "        axes[0].add_line(lines.Line2D([0, s], [p, p], linewidth = 1, color = 'grey'))\n",
    "        axes[0].add_line(lines.Line2D([p, p], [0, s], linewidth = 1, color = 'grey'))\n",
    "\n",
    "for c in range(len(loc)):\n",
    "    for r in range(len(loc)):\n",
    "        if (c>r):\n",
    "            rect = Rectangle((vertex_start[r],vertex_start[c]),size[r],size[c],linewidth=1,edgecolor='r',facecolor=c_map((r+c)*10))\n",
    "            axes[0].add_patch(rect)\n",
    "\n",
    "gradient = np.linspace(0, 1, 256)\n",
    "gradient = np.vstack((gradient, gradient))\n",
    "            \n",
    "axes[0].set_ylim([-25,s])   \n",
    "axes[0].set_xlim([-25, s])\n",
    "axes[0].invert_yaxis()\n",
    "axes[0].set_xticks((cumsum(size)+0.5*size)) #put labels in the middle of the box\n",
    "axes[0].set_yticks(cumsum(size)+0.5*size)\n",
    "axes[0].set_xticklabels(['een', 'twee', 'drie','vier', 'vijf', 'zas', 'zeuven','acht', 'negen', '10'], rotation = 90)\n",
    "axes[0].set_yticklabels(['een', 'twee', 'drie','vier', 'vijf', 'zas', 'zeuven','acht', 'negen', '10'])\n",
    "\n",
    "axes[0].grid(False)\n",
    "\n",
    "axes[1].imshow(gradient, aspect = '5', cmap=c_map)\n",
    "axes[1].grid(False)\n",
    "axes[1].set_xticks([0,250])\n",
    "axes[1].set_yticks([]) \n",
    "axes[1].set_xticklabels(['0','1'])\n",
    "\n",
    "plt.show()"
   ]
  },
  {
   "cell_type": "code",
   "execution_count": null,
   "metadata": {},
   "outputs": [],
   "source": [
    "fig, ax = plt.subplots(1)\n",
    "ax.imshow(gradient, aspect = '5', cmap=plt.get_cmap('Blues'))\n",
    "ax.grid(False)\n",
    "ax.set_xticks([0,250])\n",
    "ax.set_yticks([])\n",
    "ax.set_xticklabels(['0','1'])\n",
    "plt.show()\n"
   ]
  },
  {
   "cell_type": "code",
   "execution_count": null,
   "metadata": {},
   "outputs": [],
   "source": [
    "fig = plt.figure()\n",
    "\n",
    "#l1 = plt.lines.Line2D([0, 1], [0, 1], transform=fig.transFigure, figure=fig)\n",
    "#l2 = pltlines.Line2D([0, 1], [1, 0], transform=fig.transFigure, figure=fig)\n",
    "#fig.lines.extend([l1, l2])\n",
    "rect = Rectangle((0.1,0.1),1,1,linewidth=1,edgecolor='r',facecolor='none')\n",
    "fig.patches(rect)\n",
    "plt.show()"
   ]
  },
  {
   "cell_type": "code",
   "execution_count": null,
   "metadata": {},
   "outputs": [],
   "source": [
    "class SpecialHeatmap:\n",
    "    def __init__(self):\n",
    "        self.heatmap_data = np.zeros((100,100), dtype=float)\n",
    "        self.actual_data = np.random.rand(10,10)\n",
    "\n",
    "        self.upscale()\n",
    "        self.draw()\n",
    "\n",
    "    \n",
    "    def upscale(self):\n",
    "        for i in range(10):\n",
    "            for j in range(10):\n",
    "                self.heatmap_data[i*10:(i+1)*10, j*10:(j+1)*10] = self.actual_data[i,j]\n",
    "            self.heatmap_data[i*10,:] = float('NaN')\n",
    "\n",
    "    def draw(self):\n",
    "        ax = sns.heatmap(self.heatmap_data)\n",
    "\n",
    "\n",
    "SpecialHeatmap()"
   ]
  },
  {
   "cell_type": "code",
   "execution_count": null,
   "metadata": {
    "collapsed": true
   },
   "outputs": [],
   "source": [
    "subprocess.check_output(['jsinspect -t 2 -r json \"JsInspect Analysis/base_snippet.js\" \"JsInspect Analysis/base_snippet_type_1_1.js\"'])"
   ]
  },
  {
   "cell_type": "code",
   "execution_count": null,
   "metadata": {
    "collapsed": true
   },
   "outputs": [],
   "source": [
    "result = subprocess.run('jsinspect -t 10 -r json \"JsInspect Analysis/base_snippet.js\" \"JsInspect Analysis/base_snippet_type_1_1.js\"', stdout=subprocess.PIPE, shell=True)\n",
    "string = result.stdout.decode('utf-8')\n",
    "json.loads(string)"
   ]
  },
  {
   "cell_type": "code",
   "execution_count": null,
   "metadata": {
    "collapsed": true
   },
   "outputs": [],
   "source": []
  }
 ],
 "metadata": {
  "kernelspec": {
   "name": "python3",
   "display_name": "Python 3.8.6 64-bit",
   "metadata": {
    "interpreter": {
     "hash": "37eb73ed997a346ed0686d4d6017c46cf74fcf62c6bea2d4e66708af533e9af5"
    }
   }
  },
  "language_info": {
   "codemirror_mode": {
    "name": "ipython",
    "version": 3
   },
   "file_extension": ".py",
   "mimetype": "text/x-python",
   "name": "python",
   "nbconvert_exporter": "python",
   "pygments_lexer": "ipython3",
   "version": "3.8.6-final"
  }
 },
 "nbformat": 4,
 "nbformat_minor": 2
}